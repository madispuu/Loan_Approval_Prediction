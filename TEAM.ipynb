{
 "cells": [
  {
   "cell_type": "markdown",
   "id": "6aba2a42-b2b1-4b10-93c8-a63065f45b50",
   "metadata": {},
   "source": [
    "# Loan approval Prediction\n",
    "\n"
   ]
  },
  {
   "cell_type": "markdown",
   "id": "a54236ca-220d-48e1-bf98-8158374d36f6",
   "metadata": {},
   "source": [
    "### Importing the date from Kaggele"
   ]
  },
  {
   "cell_type": "code",
   "execution_count": 3,
   "id": "ed802257-4087-465b-af54-b53bc667807f",
   "metadata": {},
   "outputs": [],
   "source": [
    "import pandas as pd\n",
    "df_train=pd.read_csv(\"train.csv\")\n",
    "df_test=pd.read_csv(\"test.csv\")"
   ]
  },
  {
   "cell_type": "code",
   "execution_count": 4,
   "id": "2bac2265-1117-4862-a68e-2ea3c13648bf",
   "metadata": {},
   "outputs": [
    {
     "name": "stdout",
     "output_type": "stream",
     "text": [
      "(58645, 13)\n"
     ]
    }
   ],
   "source": [
    "print(df_train.shape)"
   ]
  },
  {
   "cell_type": "markdown",
   "id": "a0dd089f-50f8-4cd8-be6a-33687de2520f",
   "metadata": {},
   "source": [
    "Meil on 58645 rida infot mille peal treenida\n"
   ]
  },
  {
   "cell_type": "code",
   "execution_count": 6,
   "id": "fa8e6be6-64f9-4517-be88-b54b4eadd6d9",
   "metadata": {},
   "outputs": [
    {
     "data": {
      "text/html": [
       "<div>\n",
       "<style scoped>\n",
       "    .dataframe tbody tr th:only-of-type {\n",
       "        vertical-align: middle;\n",
       "    }\n",
       "\n",
       "    .dataframe tbody tr th {\n",
       "        vertical-align: top;\n",
       "    }\n",
       "\n",
       "    .dataframe thead th {\n",
       "        text-align: right;\n",
       "    }\n",
       "</style>\n",
       "<table border=\"1\" class=\"dataframe\">\n",
       "  <thead>\n",
       "    <tr style=\"text-align: right;\">\n",
       "      <th></th>\n",
       "      <th>id</th>\n",
       "      <th>person_age</th>\n",
       "      <th>person_income</th>\n",
       "      <th>person_home_ownership</th>\n",
       "      <th>person_emp_length</th>\n",
       "      <th>loan_intent</th>\n",
       "      <th>loan_grade</th>\n",
       "      <th>loan_amnt</th>\n",
       "      <th>loan_int_rate</th>\n",
       "      <th>loan_percent_income</th>\n",
       "      <th>cb_person_default_on_file</th>\n",
       "      <th>cb_person_cred_hist_length</th>\n",
       "      <th>loan_status</th>\n",
       "    </tr>\n",
       "  </thead>\n",
       "  <tbody>\n",
       "    <tr>\n",
       "      <th>0</th>\n",
       "      <td>0</td>\n",
       "      <td>37</td>\n",
       "      <td>35000</td>\n",
       "      <td>RENT</td>\n",
       "      <td>0.0</td>\n",
       "      <td>EDUCATION</td>\n",
       "      <td>B</td>\n",
       "      <td>6000</td>\n",
       "      <td>11.49</td>\n",
       "      <td>0.17</td>\n",
       "      <td>N</td>\n",
       "      <td>14</td>\n",
       "      <td>0</td>\n",
       "    </tr>\n",
       "    <tr>\n",
       "      <th>1</th>\n",
       "      <td>1</td>\n",
       "      <td>22</td>\n",
       "      <td>56000</td>\n",
       "      <td>OWN</td>\n",
       "      <td>6.0</td>\n",
       "      <td>MEDICAL</td>\n",
       "      <td>C</td>\n",
       "      <td>4000</td>\n",
       "      <td>13.35</td>\n",
       "      <td>0.07</td>\n",
       "      <td>N</td>\n",
       "      <td>2</td>\n",
       "      <td>0</td>\n",
       "    </tr>\n",
       "    <tr>\n",
       "      <th>2</th>\n",
       "      <td>2</td>\n",
       "      <td>29</td>\n",
       "      <td>28800</td>\n",
       "      <td>OWN</td>\n",
       "      <td>8.0</td>\n",
       "      <td>PERSONAL</td>\n",
       "      <td>A</td>\n",
       "      <td>6000</td>\n",
       "      <td>8.90</td>\n",
       "      <td>0.21</td>\n",
       "      <td>N</td>\n",
       "      <td>10</td>\n",
       "      <td>0</td>\n",
       "    </tr>\n",
       "    <tr>\n",
       "      <th>3</th>\n",
       "      <td>3</td>\n",
       "      <td>30</td>\n",
       "      <td>70000</td>\n",
       "      <td>RENT</td>\n",
       "      <td>14.0</td>\n",
       "      <td>VENTURE</td>\n",
       "      <td>B</td>\n",
       "      <td>12000</td>\n",
       "      <td>11.11</td>\n",
       "      <td>0.17</td>\n",
       "      <td>N</td>\n",
       "      <td>5</td>\n",
       "      <td>0</td>\n",
       "    </tr>\n",
       "    <tr>\n",
       "      <th>4</th>\n",
       "      <td>4</td>\n",
       "      <td>22</td>\n",
       "      <td>60000</td>\n",
       "      <td>RENT</td>\n",
       "      <td>2.0</td>\n",
       "      <td>MEDICAL</td>\n",
       "      <td>A</td>\n",
       "      <td>6000</td>\n",
       "      <td>6.92</td>\n",
       "      <td>0.10</td>\n",
       "      <td>N</td>\n",
       "      <td>3</td>\n",
       "      <td>0</td>\n",
       "    </tr>\n",
       "  </tbody>\n",
       "</table>\n",
       "</div>"
      ],
      "text/plain": [
       "   id  person_age  person_income person_home_ownership  person_emp_length  \\\n",
       "0   0          37          35000                  RENT                0.0   \n",
       "1   1          22          56000                   OWN                6.0   \n",
       "2   2          29          28800                   OWN                8.0   \n",
       "3   3          30          70000                  RENT               14.0   \n",
       "4   4          22          60000                  RENT                2.0   \n",
       "\n",
       "  loan_intent loan_grade  loan_amnt  loan_int_rate  loan_percent_income  \\\n",
       "0   EDUCATION          B       6000          11.49                 0.17   \n",
       "1     MEDICAL          C       4000          13.35                 0.07   \n",
       "2    PERSONAL          A       6000           8.90                 0.21   \n",
       "3     VENTURE          B      12000          11.11                 0.17   \n",
       "4     MEDICAL          A       6000           6.92                 0.10   \n",
       "\n",
       "  cb_person_default_on_file  cb_person_cred_hist_length  loan_status  \n",
       "0                         N                          14            0  \n",
       "1                         N                           2            0  \n",
       "2                         N                          10            0  \n",
       "3                         N                           5            0  \n",
       "4                         N                           3            0  "
      ]
     },
     "execution_count": 6,
     "metadata": {},
     "output_type": "execute_result"
    }
   ],
   "source": [
    "df_train.head()\n"
   ]
  },
  {
   "cell_type": "code",
   "execution_count": 7,
   "id": "97483035-e452-40f8-82f3-dc33626a46d1",
   "metadata": {},
   "outputs": [
    {
     "name": "stdout",
     "output_type": "stream",
     "text": [
      "(39098, 12)\n"
     ]
    }
   ],
   "source": [
    "print(df_test.shape)\n"
   ]
  },
  {
   "cell_type": "markdown",
   "id": "6ef3cd29-de6f-423e-ac2b-eafc1dbce586",
   "metadata": {},
   "source": [
    "Meil on 39098 rida infot mille peal testida läbi kaggle'i\n"
   ]
  },
  {
   "cell_type": "code",
   "execution_count": 9,
   "id": "e9fca80a-fda6-4163-aa8c-fe7621bb8a60",
   "metadata": {},
   "outputs": [
    {
     "data": {
      "text/html": [
       "<div>\n",
       "<style scoped>\n",
       "    .dataframe tbody tr th:only-of-type {\n",
       "        vertical-align: middle;\n",
       "    }\n",
       "\n",
       "    .dataframe tbody tr th {\n",
       "        vertical-align: top;\n",
       "    }\n",
       "\n",
       "    .dataframe thead th {\n",
       "        text-align: right;\n",
       "    }\n",
       "</style>\n",
       "<table border=\"1\" class=\"dataframe\">\n",
       "  <thead>\n",
       "    <tr style=\"text-align: right;\">\n",
       "      <th></th>\n",
       "      <th>id</th>\n",
       "      <th>person_age</th>\n",
       "      <th>person_income</th>\n",
       "      <th>person_home_ownership</th>\n",
       "      <th>person_emp_length</th>\n",
       "      <th>loan_intent</th>\n",
       "      <th>loan_grade</th>\n",
       "      <th>loan_amnt</th>\n",
       "      <th>loan_int_rate</th>\n",
       "      <th>loan_percent_income</th>\n",
       "      <th>cb_person_default_on_file</th>\n",
       "      <th>cb_person_cred_hist_length</th>\n",
       "    </tr>\n",
       "  </thead>\n",
       "  <tbody>\n",
       "    <tr>\n",
       "      <th>0</th>\n",
       "      <td>58645</td>\n",
       "      <td>23</td>\n",
       "      <td>69000</td>\n",
       "      <td>RENT</td>\n",
       "      <td>3.0</td>\n",
       "      <td>HOMEIMPROVEMENT</td>\n",
       "      <td>F</td>\n",
       "      <td>25000</td>\n",
       "      <td>15.76</td>\n",
       "      <td>0.36</td>\n",
       "      <td>N</td>\n",
       "      <td>2</td>\n",
       "    </tr>\n",
       "    <tr>\n",
       "      <th>1</th>\n",
       "      <td>58646</td>\n",
       "      <td>26</td>\n",
       "      <td>96000</td>\n",
       "      <td>MORTGAGE</td>\n",
       "      <td>6.0</td>\n",
       "      <td>PERSONAL</td>\n",
       "      <td>C</td>\n",
       "      <td>10000</td>\n",
       "      <td>12.68</td>\n",
       "      <td>0.10</td>\n",
       "      <td>Y</td>\n",
       "      <td>4</td>\n",
       "    </tr>\n",
       "    <tr>\n",
       "      <th>2</th>\n",
       "      <td>58647</td>\n",
       "      <td>26</td>\n",
       "      <td>30000</td>\n",
       "      <td>RENT</td>\n",
       "      <td>5.0</td>\n",
       "      <td>VENTURE</td>\n",
       "      <td>E</td>\n",
       "      <td>4000</td>\n",
       "      <td>17.19</td>\n",
       "      <td>0.13</td>\n",
       "      <td>Y</td>\n",
       "      <td>2</td>\n",
       "    </tr>\n",
       "    <tr>\n",
       "      <th>3</th>\n",
       "      <td>58648</td>\n",
       "      <td>33</td>\n",
       "      <td>50000</td>\n",
       "      <td>RENT</td>\n",
       "      <td>4.0</td>\n",
       "      <td>DEBTCONSOLIDATION</td>\n",
       "      <td>A</td>\n",
       "      <td>7000</td>\n",
       "      <td>8.90</td>\n",
       "      <td>0.14</td>\n",
       "      <td>N</td>\n",
       "      <td>7</td>\n",
       "    </tr>\n",
       "    <tr>\n",
       "      <th>4</th>\n",
       "      <td>58649</td>\n",
       "      <td>26</td>\n",
       "      <td>102000</td>\n",
       "      <td>MORTGAGE</td>\n",
       "      <td>8.0</td>\n",
       "      <td>HOMEIMPROVEMENT</td>\n",
       "      <td>D</td>\n",
       "      <td>15000</td>\n",
       "      <td>16.32</td>\n",
       "      <td>0.15</td>\n",
       "      <td>Y</td>\n",
       "      <td>4</td>\n",
       "    </tr>\n",
       "  </tbody>\n",
       "</table>\n",
       "</div>"
      ],
      "text/plain": [
       "      id  person_age  person_income person_home_ownership  person_emp_length  \\\n",
       "0  58645          23          69000                  RENT                3.0   \n",
       "1  58646          26          96000              MORTGAGE                6.0   \n",
       "2  58647          26          30000                  RENT                5.0   \n",
       "3  58648          33          50000                  RENT                4.0   \n",
       "4  58649          26         102000              MORTGAGE                8.0   \n",
       "\n",
       "         loan_intent loan_grade  loan_amnt  loan_int_rate  \\\n",
       "0    HOMEIMPROVEMENT          F      25000          15.76   \n",
       "1           PERSONAL          C      10000          12.68   \n",
       "2            VENTURE          E       4000          17.19   \n",
       "3  DEBTCONSOLIDATION          A       7000           8.90   \n",
       "4    HOMEIMPROVEMENT          D      15000          16.32   \n",
       "\n",
       "   loan_percent_income cb_person_default_on_file  cb_person_cred_hist_length  \n",
       "0                 0.36                         N                           2  \n",
       "1                 0.10                         Y                           4  \n",
       "2                 0.13                         Y                           2  \n",
       "3                 0.14                         N                           7  \n",
       "4                 0.15                         Y                           4  "
      ]
     },
     "execution_count": 9,
     "metadata": {},
     "output_type": "execute_result"
    }
   ],
   "source": [
    "df_test.head()"
   ]
  },
  {
   "cell_type": "markdown",
   "id": "20e2bf56-0fdf-47a9-971e-053d41f69ef2",
   "metadata": {},
   "source": [
    "## Kontrollime infot"
   ]
  },
  {
   "cell_type": "markdown",
   "id": "effdc579-a751-4a69-9f6c-71d2c4723859",
   "metadata": {},
   "source": [
    "### Kas leidub null väärtuseid?"
   ]
  },
  {
   "cell_type": "code",
   "execution_count": 12,
   "id": "05f2d8e7-349a-4df2-813e-d28b8eba1c93",
   "metadata": {},
   "outputs": [
    {
     "data": {
      "text/plain": [
       "id                            0\n",
       "person_age                    0\n",
       "person_income                 0\n",
       "person_home_ownership         0\n",
       "person_emp_length             0\n",
       "loan_intent                   0\n",
       "loan_grade                    0\n",
       "loan_amnt                     0\n",
       "loan_int_rate                 0\n",
       "loan_percent_income           0\n",
       "cb_person_default_on_file     0\n",
       "cb_person_cred_hist_length    0\n",
       "dtype: int64"
      ]
     },
     "execution_count": 12,
     "metadata": {},
     "output_type": "execute_result"
    }
   ],
   "source": [
    "df_test.isnull().sum()"
   ]
  },
  {
   "cell_type": "code",
   "execution_count": 13,
   "id": "e82f47f1-d8b7-48d9-852d-cef0a2716837",
   "metadata": {},
   "outputs": [
    {
     "data": {
      "text/plain": [
       "id                            0\n",
       "person_age                    0\n",
       "person_income                 0\n",
       "person_home_ownership         0\n",
       "person_emp_length             0\n",
       "loan_intent                   0\n",
       "loan_grade                    0\n",
       "loan_amnt                     0\n",
       "loan_int_rate                 0\n",
       "loan_percent_income           0\n",
       "cb_person_default_on_file     0\n",
       "cb_person_cred_hist_length    0\n",
       "loan_status                   0\n",
       "dtype: int64"
      ]
     },
     "execution_count": 13,
     "metadata": {},
     "output_type": "execute_result"
    }
   ],
   "source": [
    "df_train.isnull().sum()"
   ]
  },
  {
   "cell_type": "markdown",
   "id": "9d1f14a7-e4b5-4d53-8684-090f08a705c4",
   "metadata": {},
   "source": [
    "Null Väärtuseid ei leidu kummaski"
   ]
  },
  {
   "cell_type": "markdown",
   "id": "2b382a4c-8f0e-4655-a091-d8d93c0c8d4e",
   "metadata": {},
   "source": [
    "### Käime üle kõik veerud, ja vaatame kas andmed on korreksed"
   ]
  },
  {
   "cell_type": "markdown",
   "id": "f6122c10-cd41-421c-adc1-0c295a985998",
   "metadata": {},
   "source": [
    "#### **Vanus**"
   ]
  },
  {
   "cell_type": "code",
   "execution_count": 17,
   "id": "7493ba3a-95f3-4706-9852-10e1f1811228",
   "metadata": {
    "scrolled": true
   },
   "outputs": [
    {
     "data": {
      "text/plain": [
       "count    39098.000000\n",
       "mean        27.566781\n",
       "std          6.032761\n",
       "min         20.000000\n",
       "25%         23.000000\n",
       "50%         26.000000\n",
       "75%         30.000000\n",
       "max         94.000000\n",
       "Name: person_age, dtype: float64"
      ]
     },
     "execution_count": 17,
     "metadata": {},
     "output_type": "execute_result"
    }
   ],
   "source": [
    "df_test[\"person_age\"].describe()"
   ]
  },
  {
   "cell_type": "code",
   "execution_count": 18,
   "id": "31b6efa7-36c0-4378-9bc6-8645a48ed87a",
   "metadata": {},
   "outputs": [
    {
     "data": {
      "text/plain": [
       "count    58645.000000\n",
       "mean        27.550857\n",
       "std          6.033216\n",
       "min         20.000000\n",
       "25%         23.000000\n",
       "50%         26.000000\n",
       "75%         30.000000\n",
       "max        123.000000\n",
       "Name: person_age, dtype: float64"
      ]
     },
     "execution_count": 18,
     "metadata": {},
     "output_type": "execute_result"
    }
   ],
   "source": [
    "df_train[\"person_age\"].describe()"
   ]
  },
  {
   "cell_type": "markdown",
   "id": "400ab964-b8a0-410d-8a45-a21ee89fff94",
   "metadata": {},
   "source": [
    "**Train andmetes on isik kes on 123 aastat vana, eemaldame ta:**\n"
   ]
  },
  {
   "cell_type": "code",
   "execution_count": 20,
   "id": "bbd729b6-2ae7-46bd-b1ad-04b64bbc5d2e",
   "metadata": {},
   "outputs": [],
   "source": [
    "df_train = df_train[df_train[\"person_age\"] != 123]"
   ]
  },
  {
   "cell_type": "code",
   "execution_count": 21,
   "id": "65156074-335d-4bf0-884c-588fdaa7ed80",
   "metadata": {},
   "outputs": [
    {
     "data": {
      "text/plain": [
       "count    58644.000000\n",
       "mean        27.549229\n",
       "std          6.020378\n",
       "min         20.000000\n",
       "25%         23.000000\n",
       "50%         26.000000\n",
       "75%         30.000000\n",
       "max         84.000000\n",
       "Name: person_age, dtype: float64"
      ]
     },
     "execution_count": 21,
     "metadata": {},
     "output_type": "execute_result"
    }
   ],
   "source": [
    "df_train[\"person_age\"].describe()"
   ]
  },
  {
   "cell_type": "code",
   "execution_count": 66,
   "id": "9751a125-366f-4e78-bfa9-bae7d74a1124",
   "metadata": {},
   "outputs": [
    {
     "data": {
      "image/png": "[encoded data removed]",
      "text/plain": [
       "<Figure size 1800x600 with 2 Axes>"
      ]
     },
     "metadata": {},
     "output_type": "display_data"
    }
   ],
   "source": [
    "import matplotlib.pyplot as plt\n",
    "import seaborn as sns\n",
    "\n",
    "#Et 2 oleks kõrvuti\n",
    "fig, axes = plt.subplots(1, 2, figsize=(18, 6), sharex=True, sharey=True)\n",
    "\n",
    "#Train\n",
    "sns.kdeplot(x=df_train[\"person_age\"], color=\"blue\", fill=True, ax=axes[0])\n",
    "axes[0].set_title(\"Treening vanuste jaotus\")\n",
    "axes[0].set_xlabel(\"Vanus\")\n",
    "\n",
    "#Test\n",
    "sns.kdeplot(x=df_test[\"person_age\"], color=\"orange\", fill=True, ax=axes[1])\n",
    "axes[1].set_title(\"Test vanusete jaotus\")\n",
    "axes[1].set_xlabel(\"Vanus\")\n",
    "\n",
    "plt.tight_layout()\n",
    "plt.show()"
   ]
  },
  {
   "cell_type": "markdown",
   "id": "998de233-9282-4b09-bf1b-bce4d1517b5d",
   "metadata": {},
   "source": [
    "#### **Sissetulek**"
   ]
  },
  {
   "cell_type": "code",
   "execution_count": 86,
   "id": "73a3cdeb-db37-4dee-b9cd-3f201cf379d8",
   "metadata": {},
   "outputs": [
    {
     "name": "stdout",
     "output_type": "stream",
     "text": [
      "count      39,098.00\n",
      "mean       64,060.46\n",
      "std        37,955.83\n",
      "min         4,000.00\n",
      "25%        42,000.00\n",
      "50%        58,000.00\n",
      "75%        75,885.00\n",
      "max     1,900,000.00\n",
      "Name: person_income, dtype: float64\n"
     ]
    }
   ],
   "source": [
    "#et tuleks loetavad numbrid\n",
    "pd.options.display.float_format = '{:,.2f}'.format\n",
    "print(df_test[\"person_income\"].describe())"
   ]
  },
  {
   "cell_type": "code",
   "execution_count": 88,
   "id": "253a0c24-9eb2-466c-8d72-0d74fa8959d9",
   "metadata": {},
   "outputs": [
    {
     "name": "stdout",
     "output_type": "stream",
     "text": [
      "count      39,098.00\n",
      "mean       64,060.46\n",
      "std        37,955.83\n",
      "min         4,000.00\n",
      "25%        42,000.00\n",
      "50%        58,000.00\n",
      "75%        75,885.00\n",
      "max     1,900,000.00\n",
      "Name: person_income, dtype: float64\n"
     ]
    }
   ],
   "source": [
    "#et tuleks loetavad numbrid\n",
    "pd.options.display.float_format = '{:,.2f}'.format\n",
    "print(df_test[\"person_income\"].describe())"
   ]
  },
  {
   "cell_type": "code",
   "execution_count": 185,
   "id": "55f2b41e-8e80-40c5-b218-78c94bbc905b",
   "metadata": {},
   "outputs": [
    {
     "data": {
      "image/png": "[encoded data removed]",
      "text/plain": [
       "<Figure size 1800x600 with 2 Axes>"
      ]
     },
     "metadata": {},
     "output_type": "display_data"
    }
   ],
   "source": [
    "import matplotlib.pyplot as plt\n",
    "import seaborn as sns\n",
    "\n",
    "#palga vahemikud\n",
    "bins = [0, 20000, 40000, 60000, 80000, 100000, 120000, 140000, 160000]\n",
    "labels = ['0-20k', '20k-40k', '40k-60k', '60k-80k', '80k-100k', '100k-120k', '120k-140k', '140k+']\n",
    "\n",
    "\n",
    "df_train['salary_range'] = pd.cut(df_train['person_income'], bins=bins, labels=labels, include_lowest=True)\n",
    "df_test['salary_range'] = pd.cut(df_test['person_income'], bins=bins, labels=labels, include_lowest=True)\n",
    "\n",
    "# Et 2 kõrvuti\n",
    "fig, axes = plt.subplots(1, 2, figsize=(18, 6), sharey=True)\n",
    "\n",
    "# Train \n",
    "sns.countplot(x='salary_range', data=df_train, ax=axes[0], palette='Blues', hue='salary_range',  legend=False)\n",
    "axes[0].set_title(\"Train Salary Range Distribution\")\n",
    "axes[0].set_xlabel(\"Salary Range\")\n",
    "axes[0].set_ylabel(\"Count\")\n",
    "\n",
    "# Test \n",
    "sns.countplot(x='salary_range', data=df_test, ax=axes[1], palette='Oranges', hue='salary_range', legend=False)\n",
    "axes[1].set_title(\"Test Salary Range Distribution\")\n",
    "axes[1].set_xlabel(\"Salary Range\")\n",
    "\n",
    "plt.tight_layout()\n",
    "plt.show()"
   ]
  },
  {
   "cell_type": "markdown",
   "id": "3656dd4e-2e9f-49b8-b127-6cd7adcd9445",
   "metadata": {},
   "source": [
    "#### **Elukoha omamis liik**"
   ]
  },
  {
   "cell_type": "code",
   "execution_count": 120,
   "id": "ba9d37b4-1431-4940-86a0-cebd68577d81",
   "metadata": {},
   "outputs": [
    {
     "data": {
      "text/plain": [
       "person_home_ownership\n",
       "RENT        30594\n",
       "MORTGAGE    24823\n",
       "OWN          3138\n",
       "OTHER          89\n",
       "Name: count, dtype: int64"
      ]
     },
     "execution_count": 120,
     "metadata": {},
     "output_type": "execute_result"
    }
   ],
   "source": [
    "df_train[\"person_home_ownership\"].value_counts()"
   ]
  },
  {
   "cell_type": "code",
   "execution_count": 122,
   "id": "bd597d11-942b-4557-8073-131afd423013",
   "metadata": {},
   "outputs": [
    {
     "data": {
      "text/plain": [
       "person_home_ownership\n",
       "RENT        20280\n",
       "MORTGAGE    16683\n",
       "OWN          2056\n",
       "OTHER          79\n",
       "Name: count, dtype: int64"
      ]
     },
     "execution_count": 122,
     "metadata": {},
     "output_type": "execute_result"
    }
   ],
   "source": [
    "df_test[\"person_home_ownership\"].value_counts()"
   ]
  },
  {
   "cell_type": "markdown",
   "id": "b2afa8fa-e1d3-4d3f-ad72-6ec3bc951359",
   "metadata": {},
   "source": [
    "#### **Tööstaaž aastates**"
   ]
  },
  {
   "cell_type": "code",
   "execution_count": 195,
   "id": "cc33db1b-91ee-44c9-8ab3-2a8ba8192d24",
   "metadata": {},
   "outputs": [
    {
     "data": {
      "text/plain": [
       "count   39,098.00\n",
       "mean         4.69\n",
       "std          3.87\n",
       "min          0.00\n",
       "25%          2.00\n",
       "50%          4.00\n",
       "75%          7.00\n",
       "max         42.00\n",
       "Name: person_emp_length, dtype: float64"
      ]
     },
     "execution_count": 195,
     "metadata": {},
     "output_type": "execute_result"
    }
   ],
   "source": [
    "df_test[\"person_emp_length\"].describe()"
   ]
  },
  {
   "cell_type": "code",
   "execution_count": 197,
   "id": "b4070e37-eac3-4354-931d-2ec572ab22ea",
   "metadata": {},
   "outputs": [
    {
     "data": {
      "text/plain": [
       "count   58,642.00\n",
       "mean         4.70\n",
       "std          3.90\n",
       "min          0.00\n",
       "25%          2.00\n",
       "50%          4.00\n",
       "75%          7.00\n",
       "max         41.00\n",
       "Name: person_emp_length, dtype: float64"
      ]
     },
     "execution_count": 197,
     "metadata": {},
     "output_type": "execute_result"
    }
   ],
   "source": [
    "df_train[\"person_emp_length\"].describe()"
   ]
  },
  {
   "cell_type": "markdown",
   "id": "f27725d5-6ecf-4c89-914f-bf9ced00305e",
   "metadata": {},
   "source": [
    "**Kaks inimest olid käinud tööl 123 aastat, eemaldame nad:**"
   ]
  },
  {
   "cell_type": "code",
   "execution_count": 157,
   "id": "fdc49158-449d-449a-8946-c8ea9d098fe8",
   "metadata": {},
   "outputs": [],
   "source": [
    "df_train = df_train[df_train[\"person_emp_length\"] != 123]"
   ]
  },
  {
   "cell_type": "code",
   "execution_count": 193,
   "id": "77a08e0d-f38c-474a-a8ad-1f41a1cf1d86",
   "metadata": {},
   "outputs": [
    {
     "data": {
      "image/png": "[encoded data removed]",
      "text/plain": [
       "<Figure size 1800x600 with 2 Axes>"
      ]
     },
     "metadata": {},
     "output_type": "display_data"
    }
   ],
   "source": [
    "df_train['emp_length_count'] = df_train['person_emp_length'].map(df_train['person_emp_length'].value_counts())\n",
    "df_test['emp_length_count'] = df_test['person_emp_length'].map(df_test['person_emp_length'].value_counts())\n",
    "\n",
    "# et 2 oleks kõrvuti\n",
    "fig, axes = plt.subplots(1, 2, figsize=(18, 6), sharey=True)\n",
    "\n",
    "# Train \n",
    "sns.barplot(x='person_emp_length', y='emp_length_count', data=df_train, ax=axes[0],hue='person_emp_length',  palette='viridis')\n",
    "axes[0].set_title(\"Train Employment Length Distribution\")\n",
    "axes[0].set_xlabel(\"Employment Length (Years)\")\n",
    "axes[0].set_ylabel(\"Count\")\n",
    "\n",
    "# Test \n",
    "sns.barplot(x='person_emp_length', y='emp_length_count', data=df_test, ax=axes[1],hue='person_emp_length', palette='viridis')\n",
    "axes[1].set_title(\"Test Employment Length Distribution\")\n",
    "axes[1].set_xlabel(\"Employment Length (Years)\")\n",
    "\n",
    "# Asendab x-teljel komadega arvud komateta arvudega\n",
    "for ax in axes:\n",
    "    ax.set_xticks(ax.get_xticks())\n",
    "    ax.set_xticklabels([f\"{int(x)}\" for x in ax.get_xticks()])\n",
    "\n",
    "\n",
    "plt.tight_layout()\n",
    "plt.show()"
   ]
  },
  {
   "cell_type": "markdown",
   "id": "8d7278ab-b0ce-4bd4-a3d4-d79b6c205f41",
   "metadata": {},
   "source": [
    "#### **Mille jaoks laenu kasutatakse?**"
   ]
  },
  {
   "cell_type": "code",
   "execution_count": 30,
   "id": "46a598a3-287e-4d11-8fd4-92d7286fd628",
   "metadata": {},
   "outputs": [
    {
     "data": {
      "text/plain": [
       "loan_intent\n",
       "EDUCATION            8076\n",
       "MEDICAL              7447\n",
       "PERSONAL             6815\n",
       "VENTURE              6632\n",
       "DEBTCONSOLIDATION    5915\n",
       "HOMEIMPROVEMENT      4213\n",
       "Name: count, dtype: int64"
      ]
     },
     "execution_count": 30,
     "metadata": {},
     "output_type": "execute_result"
    }
   ],
   "source": [
    "df_test[\"loan_intent\"].value_counts()"
   ]
  },
  {
   "cell_type": "code",
   "execution_count": 31,
   "id": "c3f68072-734b-423f-b932-863bef2cda97",
   "metadata": {},
   "outputs": [
    {
     "data": {
      "text/plain": [
       "loan_intent\n",
       "EDUCATION            12271\n",
       "MEDICAL              10934\n",
       "PERSONAL             10015\n",
       "VENTURE              10011\n",
       "DEBTCONSOLIDATION     9133\n",
       "HOMEIMPROVEMENT       6280\n",
       "Name: count, dtype: int64"
      ]
     },
     "execution_count": 31,
     "metadata": {},
     "output_type": "execute_result"
    }
   ],
   "source": [
    "df_train[\"loan_intent\"].value_counts()"
   ]
  },
  {
   "cell_type": "markdown",
   "id": "fafe2be3-6a49-4a3b-9a48-521b60d151f8",
   "metadata": {},
   "source": [
    "#### **Laenu kvaliteet**"
   ]
  },
  {
   "cell_type": "code",
   "execution_count": 32,
   "id": "416100f3-4526-4235-be61-f8b9c5ccaa24",
   "metadata": {},
   "outputs": [
    {
     "data": {
      "text/plain": [
       "loan_grade\n",
       "A    14005\n",
       "B    13604\n",
       "C     7460\n",
       "D     3269\n",
       "E      637\n",
       "F      105\n",
       "G       18\n",
       "Name: count, dtype: int64"
      ]
     },
     "execution_count": 32,
     "metadata": {},
     "output_type": "execute_result"
    }
   ],
   "source": [
    "df_test[\"loan_grade\"].value_counts()"
   ]
  },
  {
   "cell_type": "code",
   "execution_count": 208,
   "id": "d4301490-0e75-442e-8a61-cf3ce42c0663",
   "metadata": {},
   "outputs": [
    {
     "data": {
      "text/plain": [
       "loan_grade\n",
       "A    20984\n",
       "B    20398\n",
       "C    11036\n",
       "D     5033\n",
       "E     1009\n",
       "F      149\n",
       "G       33\n",
       "Name: count, dtype: int64"
      ]
     },
     "execution_count": 208,
     "metadata": {},
     "output_type": "execute_result"
    }
   ],
   "source": [
    "df_train[\"loan_grade\"].value_counts()"
   ]
  },
  {
   "cell_type": "code",
   "execution_count": null,
   "id": "76dd09fd-9dc6-4ffa-a9f1-50cd145989bb",
   "metadata": {},
   "outputs": [],
   "source": []
  }
 ],
 "metadata": {
  "kernelspec": {
   "display_name": "Python 3 (ipykernel)",
   "language": "python",
   "name": "python3"
  },
  "language_info": {
   "codemirror_mode": {
    "name": "ipython",
    "version": 3
   },
   "file_extension": ".py",
   "mimetype": "text/x-python",
   "name": "python",
   "nbconvert_exporter": "python",
   "pygments_lexer": "ipython3",
   "version": "3.12.4"
  }
 },
 "nbformat": 4,
 "nbformat_minor": 5
}
